{
 "cells": [
  {
   "cell_type": "markdown",
   "metadata": {},
   "source": [
    "# Conditional Neural Processes (CNP).\n",
    "[Conditional Neural Processes](https://arxiv.org/pdf/1807.01613.pdf) (CNPs) were\n",
    "introduced as a continuation of\n",
    "[Generative Query Networks](https://deepmind.com/blog/neural-scene-representation-and-rendering/)\n",
    "(GQN) to extend its training regime to tasks beyond scene rendering, e.g. to\n",
    "regression and classification."
   ]
  },
  {
   "cell_type": "code",
   "execution_count": 1,
   "metadata": {},
   "outputs": [],
   "source": [
    "import torch\n",
    "import torch.nn as nn\n",
    "import torch.optim as optim\n",
    "import matplotlib.pyplot as plt\n",
    "import datetime\n",
    "import numpy as np\n",
    "import os\n",
    "from resum.utilities import plotting_utils_cnp as plotting\n",
    "from resum.utilities import utilities as utils\n",
    "from resum.conditional_neural_process import DataGeneration\n",
    "from resum.conditional_neural_process import DeterministicModel\n",
    "from torch.utils.tensorboard import SummaryWriter\n",
    "import csv\n",
    "import yaml\n",
    "import shap"
   ]
  },
  {
   "cell_type": "code",
   "execution_count": null,
   "metadata": {},
   "outputs": [],
   "source": [
    "with open(\"../binary-black-hole/settings.yaml\", \"r\") as f:\n",
    "    config_file = yaml.safe_load(f)\n",
    "\n",
    "PLOT_AFTER = int(config_file[\"cnp_settings\"][\"plot_after\"])\n",
    "torch.manual_seed(0)\n",
    "FILES_PER_BATCH = config_file[\"cnp_settings\"][\"files_per_batch_test\"]\n",
    "target_range = config_file[\"simulation_settings\"][\"target_range\"]\n",
    "is_binary = target_range[0] >= 0 and target_range[1] <= 1\n",
    "\n",
    "path_out = config_file[\"path_settings\"][\"path_out\"]\n",
    "f_out = config_file[\"path_settings\"][\"f_out\"]\n",
    "\n"
   ]
  },
  {
   "cell_type": "code",
   "execution_count": 8,
   "metadata": {},
   "outputs": [],
   "source": [
    "x_size, y_size = utils.get_feature_and_label_size(config_file)\n",
    "theta_size=len(config_file[\"simulation_settings\"][\"theta_headers\"])"
   ]
  },
  {
   "cell_type": "code",
   "execution_count": 5,
   "metadata": {},
   "outputs": [
    {
     "data": {
      "text/plain": [
       "DeterministicModel(\n",
       "  (_encoder): DeterministicEncoder(\n",
       "    (linears): ModuleList(\n",
       "      (0): Linear(in_features=31, out_features=32, bias=True)\n",
       "      (1): Linear(in_features=32, out_features=64, bias=True)\n",
       "      (2): Linear(in_features=64, out_features=128, bias=True)\n",
       "      (3-4): 2 x Linear(in_features=128, out_features=128, bias=True)\n",
       "      (5): Linear(in_features=128, out_features=64, bias=True)\n",
       "      (6): Linear(in_features=64, out_features=48, bias=True)\n",
       "      (7): Linear(in_features=48, out_features=32, bias=True)\n",
       "    )\n",
       "  )\n",
       "  (_decoder): DeterministicDecoder(\n",
       "    (linears): ModuleList(\n",
       "      (0): Linear(in_features=62, out_features=32, bias=True)\n",
       "      (1): Linear(in_features=32, out_features=64, bias=True)\n",
       "      (2): Linear(in_features=64, out_features=128, bias=True)\n",
       "      (3-4): 2 x Linear(in_features=128, out_features=128, bias=True)\n",
       "      (5): Linear(in_features=128, out_features=64, bias=True)\n",
       "      (6): Linear(in_features=64, out_features=48, bias=True)\n",
       "      (7): Linear(in_features=48, out_features=2, bias=True)\n",
       "    )\n",
       "  )\n",
       ")"
      ]
     },
     "execution_count": 5,
     "metadata": {},
     "output_type": "execute_result"
    }
   ],
   "source": [
    "d_x, d_in, representation_size, d_out = x_size , x_size+y_size, 32, y_size+1\n",
    "encoder_sizes = [d_in, 32, 64, 128, 128, 128, 64, 48, representation_size]\n",
    "decoder_sizes = [representation_size + d_x, 32, 64, 128, 128, 128, 64, 48, d_out]\n",
    "\n",
    "model = DeterministicModel(encoder_sizes,decoder_sizes)\n",
    "model.load_state_dict(torch.load(f'{path_out}/{f_out}_model.pth'))\n",
    "model.eval()"
   ]
  },
  {
   "cell_type": "code",
   "execution_count": 6,
   "metadata": {},
   "outputs": [],
   "source": [
    "bce = nn.BCELoss()\n",
    "iter_testing = 0\n",
    "\n",
    "# create a PdfPages object\n",
    "test_idx=0\n",
    "it_batch = 0\n",
    "\n",
    "with open(f'{path_out}/output.csv', mode='w', newline='') as file:\n",
    "    writer = csv.writer(file)\n",
    "    headers = ['# n_samples'] + [*config_file[\"simulation_settings\"][\"theta_headers\"]] + ['y_cnp', 'y_cnp_err', 'y_raw', 'log_prop','bce']\n",
    "    writer.writerow(headers)\n",
    "\n",
    "path=config_file[\"path_settings\"][\"path_to_test_files\"][0]\n",
    "    \n",
    "USE_DATA_AUGMENTATION = False\n",
    "# load data:\n",
    "\n",
    "dataset_predict = DataGeneration(mode = \"predict\", config_file=config_file, \n",
    "                                path_to_files=path, \n",
    "                                use_data_augmentation=USE_DATA_AUGMENTATION, \n",
    "                                batch_size=config_file[\"cnp_settings\"][\"batch_size_test\"][0], \n",
    "                                files_per_batch=FILES_PER_BATCH)\n",
    "dataset_predict.set_loader()\n",
    "dataloader_predict = dataset_predict.dataloader"
   ]
  },
  {
   "cell_type": "code",
   "execution_count": 7,
   "metadata": {},
   "outputs": [
    {
     "name": "stdout",
     "output_type": "stream",
     "text": [
      "Shape of batch_target_x: torch.Size([1, 1000, 30])\n"
     ]
    },
    {
     "data": {
      "application/vnd.jupyter.widget-view+json": {
       "model_id": "c77c63e679ef4044b2a9944d875c4be7",
       "version_major": 2,
       "version_minor": 0
      },
      "text/plain": [
       "  0%|          | 0/10 [00:00<?, ?it/s]"
      ]
     },
     "metadata": {},
     "output_type": "display_data"
    },
    {
     "name": "stderr",
     "output_type": "stream",
     "text": [
      "/var/folders/99/0svbmlns6xs9l9p55lcr912r0000gn/T/ipykernel_52230/1046182482.py:84: FutureWarning: The NumPy global RNG was seeded by calling `np.random.seed`. In a future version this function will no longer use the global RNG. Pass `rng` explicitly to opt-in to the new behaviour and silence this warning.\n",
      "  shap.summary_plot(shap_values, target_x_explain_flat)\n",
      "/Users/aschuetz/.local/modules/miniconda/miniconda3/envs/legend/lib/python3.10/site-packages/shap/plots/_beeswarm.py:726: FutureWarning: The NumPy global RNG was seeded by calling `np.random.seed`. In a future version this function will no longer use the global RNG. Pass `rng` explicitly to opt-in to the new behaviour and silence this warning.\n",
      "  summary_legacy(\n",
      "/Users/aschuetz/.local/modules/miniconda/miniconda3/envs/legend/lib/python3.10/site-packages/shap/plots/_beeswarm.py:736: UserWarning: Attempting to set identical low and high xlims makes transformation singular; automatically expanding.\n",
      "  pl.xlim((slow, shigh))\n",
      "/Users/aschuetz/.local/modules/miniconda/miniconda3/envs/legend/lib/python3.10/site-packages/shap/plots/_beeswarm.py:746: FutureWarning: The NumPy global RNG was seeded by calling `np.random.seed`. In a future version this function will no longer use the global RNG. Pass `rng` explicitly to opt-in to the new behaviour and silence this warning.\n",
      "  summary_legacy(\n",
      "/Users/aschuetz/.local/modules/miniconda/miniconda3/envs/legend/lib/python3.10/site-packages/shap/plots/_beeswarm.py:756: UserWarning: Attempting to set identical low and high xlims makes transformation singular; automatically expanding.\n",
      "  pl.xlim((slow, shigh))\n",
      "/Users/aschuetz/.local/modules/miniconda/miniconda3/envs/legend/lib/python3.10/site-packages/shap/plots/_beeswarm.py:746: FutureWarning: The NumPy global RNG was seeded by calling `np.random.seed`. In a future version this function will no longer use the global RNG. Pass `rng` explicitly to opt-in to the new behaviour and silence this warning.\n",
      "  summary_legacy(\n",
      "/Users/aschuetz/.local/modules/miniconda/miniconda3/envs/legend/lib/python3.10/site-packages/shap/plots/_beeswarm.py:756: UserWarning: Attempting to set identical low and high xlims makes transformation singular; automatically expanding.\n",
      "  pl.xlim((slow, shigh))\n",
      "/Users/aschuetz/.local/modules/miniconda/miniconda3/envs/legend/lib/python3.10/site-packages/shap/plots/_beeswarm.py:746: FutureWarning: The NumPy global RNG was seeded by calling `np.random.seed`. In a future version this function will no longer use the global RNG. Pass `rng` explicitly to opt-in to the new behaviour and silence this warning.\n",
      "  summary_legacy(\n",
      "/Users/aschuetz/.local/modules/miniconda/miniconda3/envs/legend/lib/python3.10/site-packages/shap/plots/_beeswarm.py:756: UserWarning: Attempting to set identical low and high xlims makes transformation singular; automatically expanding.\n",
      "  pl.xlim((slow, shigh))\n",
      "/Users/aschuetz/.local/modules/miniconda/miniconda3/envs/legend/lib/python3.10/site-packages/shap/plots/_beeswarm.py:746: FutureWarning: The NumPy global RNG was seeded by calling `np.random.seed`. In a future version this function will no longer use the global RNG. Pass `rng` explicitly to opt-in to the new behaviour and silence this warning.\n",
      "  summary_legacy(\n",
      "/Users/aschuetz/.local/modules/miniconda/miniconda3/envs/legend/lib/python3.10/site-packages/shap/plots/_beeswarm.py:756: UserWarning: Attempting to set identical low and high xlims makes transformation singular; automatically expanding.\n",
      "  pl.xlim((slow, shigh))\n",
      "/Users/aschuetz/.local/modules/miniconda/miniconda3/envs/legend/lib/python3.10/site-packages/shap/plots/_beeswarm.py:746: FutureWarning: The NumPy global RNG was seeded by calling `np.random.seed`. In a future version this function will no longer use the global RNG. Pass `rng` explicitly to opt-in to the new behaviour and silence this warning.\n",
      "  summary_legacy(\n",
      "/Users/aschuetz/.local/modules/miniconda/miniconda3/envs/legend/lib/python3.10/site-packages/shap/plots/_beeswarm.py:756: UserWarning: Attempting to set identical low and high xlims makes transformation singular; automatically expanding.\n",
      "  pl.xlim((slow, shigh))\n",
      "/Users/aschuetz/.local/modules/miniconda/miniconda3/envs/legend/lib/python3.10/site-packages/shap/plots/_beeswarm.py:746: FutureWarning: The NumPy global RNG was seeded by calling `np.random.seed`. In a future version this function will no longer use the global RNG. Pass `rng` explicitly to opt-in to the new behaviour and silence this warning.\n",
      "  summary_legacy(\n",
      "/Users/aschuetz/.local/modules/miniconda/miniconda3/envs/legend/lib/python3.10/site-packages/shap/plots/_beeswarm.py:756: UserWarning: Attempting to set identical low and high xlims makes transformation singular; automatically expanding.\n",
      "  pl.xlim((slow, shigh))\n"
     ]
    },
    {
     "data": {
      "text/plain": [
       "<Figure size 640x480 with 0 Axes>"
      ]
     },
     "metadata": {},
     "output_type": "display_data"
    },
    {
     "data": {
      "image/png": "[encoded data removed]",
      "text/plain": [
       "<Figure size 1150x660 with 1 Axes>"
      ]
     },
     "metadata": {},
     "output_type": "display_data"
    }
   ],
   "source": [
    "\n",
    "\n",
    "\n",
    "\n",
    "# ===== Step 0: Ensure Your Model is in Evaluation Mode =====\n",
    "model.eval()\n",
    "\n",
    "# ===== Step 1: Prepare Background and Explanation Data =====\n",
    "# Get one batch from your test DataLoader\n",
    "batch = next(iter(dataloader_predict))\n",
    "batch_formatted = dataset_predict.format_batch_for_cnp(batch, config_file[\"cnp_settings\"][\"context_is_subset\"])\n",
    "\n",
    "# Unpack the query tuple:\n",
    "# Your query is structured as: query = ((batch_context_x, batch_context_y), batch_target_x)\n",
    "(batch_context_x, batch_context_y), batch_target_x = batch_formatted.query\n",
    "\n",
    "print(\"Shape of batch_target_x:\", batch_target_x.shape)  # Expect torch.Size([1, 500, 30])\n",
    "\n",
    "# Since we have only one sample, we replicate it to create a background set.\n",
    "num_repeats = 10  # Number of background samples\n",
    "\n",
    "# Convert tensors to numpy arrays\n",
    "context_x_np = batch_context_x.detach().numpy()\n",
    "context_y_np = batch_context_y.detach().numpy()\n",
    "target_x_np  = batch_target_x.detach().numpy()\n",
    "\n",
    "# Replicate along the batch dimension\n",
    "context_x_background = np.repeat(context_x_np, num_repeats, axis=0)\n",
    "context_y_background = np.repeat(context_y_np, num_repeats, axis=0)\n",
    "target_x_background  = np.repeat(target_x_np, num_repeats, axis=0)\n",
    "\n",
    "# For explanation data, you can also replicate the same sample or add slight perturbations.\n",
    "# Here, we simply replicate the same sample.\n",
    "context_x_explain = context_x_background.copy()\n",
    "context_y_explain = context_y_background.copy()\n",
    "target_x_explain  = target_x_background.copy()\n",
    "\n",
    "# -------------------------------------------------------------------\n",
    "# IMPORTANT: SHAP's KernelExplainer expects each instance to be a 1D or 2D array.\n",
    "# Your target_x has shape (num_samples, num_target_points, target_feature_dim).\n",
    "# We flatten the last two dimensions so that each instance becomes 1D.\n",
    "num_target_points = target_x_background.shape[1]\n",
    "target_feature_dim = target_x_background.shape[2]\n",
    "\n",
    "target_x_background_flat = target_x_background.reshape(target_x_background.shape[0], -1)\n",
    "target_x_explain_flat    = target_x_explain.reshape(target_x_explain.shape[0], -1)\n",
    "\n",
    "# ===== Step 2: Define a Prediction Function for SHAP =====\n",
    "def predict_fn(flat_target_x_np):\n",
    "    \"\"\"\n",
    "    flat_target_x_np: NumPy array of shape (batch_size, num_target_points * target_feature_dim)\n",
    "    \"\"\"\n",
    "    batch_size = flat_target_x_np.shape[0]\n",
    "    # Reshape back to original target dimensions: (batch_size, num_target_points, target_feature_dim)\n",
    "    target_x_tensor = torch.tensor(flat_target_x_np, dtype=torch.float32)\n",
    "    target_x_tensor = target_x_tensor.reshape(batch_size, num_target_points, target_feature_dim)\n",
    "    \n",
    "    # For context, we use a fixed baseline.\n",
    "    # Here, we take the first sample from the background context and repeat it for each input in the batch.\n",
    "    dummy_context_x_single = torch.tensor(context_x_background[0:1], dtype=torch.float32)\n",
    "    dummy_context_y_single = torch.tensor(context_y_background[0:1], dtype=torch.float32)\n",
    "    dummy_context_x_batch = dummy_context_x_single.repeat(batch_size, 1, 1)\n",
    "    dummy_context_y_batch = dummy_context_y_single.repeat(batch_size, 1, 1)\n",
    "    \n",
    "    # Reconstruct the query as expected by your model:\n",
    "    # query = ((context_x, context_y), target_x)\n",
    "    query = ((dummy_context_x_batch, dummy_context_y_batch), target_x_tensor)\n",
    "    \n",
    "    # Create a dummy target_y with the same shape as target_x_tensor.\n",
    "    dummy_target_y = torch.zeros_like(target_x_tensor)\n",
    "    \n",
    "    with torch.no_grad():\n",
    "        # Your model returns (log_prob, mu, uncertainty); we focus on mu.\n",
    "        _, mu, _ = model(query, dummy_target_y, is_binary)\n",
    "    \n",
    "    # Flatten the output so that each instance is 1D for SHAP.\n",
    "    mu_np = mu.detach().numpy().reshape(batch_size, -1)\n",
    "    return mu_np\n",
    "\n",
    "# ===== Step 3: Use SHAP's KernelExplainer =====\n",
    "explainer = shap.KernelExplainer(predict_fn, target_x_background_flat)\n",
    "\n",
    "# Compute SHAP values for the explanation data.\n",
    "# Note: KernelExplainer can be slow. Here we use the replicated explanation data.\n",
    "shap_values = explainer.shap_values(target_x_explain_flat)\n",
    "\n",
    "# ===== Step 4: Visualize the SHAP Values =====\n",
    "shap.summary_plot(shap_values, target_x_explain_flat)\n"
   ]
  }
 ],
 "metadata": {
  "kernelspec": {
   "display_name": "legend",
   "language": "python",
   "name": "python3"
  },
  "language_info": {
   "codemirror_mode": {
    "name": "ipython",
    "version": 3
   },
   "file_extension": ".py",
   "mimetype": "text/x-python",
   "name": "python",
   "nbconvert_exporter": "python",
   "pygments_lexer": "ipython3",
   "version": "3.10.11"
  }
 },
 "nbformat": 4,
 "nbformat_minor": 2
}
