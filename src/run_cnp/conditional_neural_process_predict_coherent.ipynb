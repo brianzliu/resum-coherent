{
 "cells": [
  {
   "cell_type": "markdown",
   "metadata": {},
   "source": [
    "# Conditional Neural Processes (CNP).\n",
    "[Conditional Neural Processes](https://arxiv.org/pdf/1807.01613.pdf) (CNPs) were\n",
    "introduced as a continuation of\n",
    "[Generative Query Networks](https://deepmind.com/blog/neural-scene-representation-and-rendering/)\n",
    "(GQN) to extend its training regime to tasks beyond scene rendering, e.g. to\n",
    "regression and classification."
   ]
  },
  {
   "cell_type": "code",
   "execution_count": null,
   "metadata": {},
   "outputs": [],
   "source": [
    "import torch\n",
    "import torch.nn as nn\n",
    "import torch.optim as optim\n",
    "import matplotlib.pyplot as plt\n",
    "import datetime\n",
    "import numpy as np\n",
    "import os\n",
    "from resum.utilities import plotting_utils_cnp as plotting\n",
    "from resum.utilities import utilities as utils\n",
    "from resum.conditional_neural_process import DataGeneration\n",
    "from resum.conditional_neural_process import DeterministicModel\n",
    "from torch.utils.tensorboard import SummaryWriter\n",
    "import csv\n",
    "import yaml"
   ]
  },
  {
   "cell_type": "code",
   "execution_count": null,
   "metadata": {},
   "outputs": [],
   "source": [
    "with open(\"../legend-neutron-moderator/settings.yaml\", \"r\") as f:\n",
    "    config_file = yaml.safe_load(f)\n",
    "\n",
    "PLOT_AFTER = int(config_file[\"cnp_settings\"][\"plot_after\"])\n",
    "torch.manual_seed(0)\n",
    "FILES_PER_BATCH = config_file[\"cnp_settings\"][\"files_per_batch_predict\"]\n",
    "target_range = config_file[\"simulation_settings\"][\"target_range\"]\n",
    "is_binary = target_range[0] >= 0 and target_range[1] <= 1\n",
    "\n",
    "path_out  = config_file[\"path_settings\"][\"path_out_cnp\"]\n",
    "version   = config_file[\"path_settings\"][\"version\"]\n",
    "iteration = config_file[\"path_settings\"][\"iteration\"]\n",
    "fidelity  = config_file[\"path_settings\"][\"fidelity\"]\n",
    "\n"
   ]
  },
  {
   "cell_type": "code",
   "execution_count": null,
   "metadata": {},
   "outputs": [],
   "source": [
    "x_size, y_size = utils.get_feature_and_label_size(config_file)\n",
    "theta_size=len(config_file[\"simulation_settings\"][\"theta_headers\"])"
   ]
  },
  {
   "cell_type": "code",
   "execution_count": null,
   "metadata": {},
   "outputs": [],
   "source": [
    "d_x, d_in, representation_size, d_out = x_size , x_size+y_size, 32, y_size+1\n",
    "encoder_sizes = [d_in, 32, 64, 128, 128, 128, 64, 48, representation_size]\n",
    "decoder_sizes = [representation_size + d_x, 32, 64, 128, 128, 128, 64, 48, d_out]\n",
    "\n",
    "model = DeterministicModel(encoder_sizes,decoder_sizes)\n",
    "model.load_state_dict(torch.load(f'{path_out}/cnp_{version}_model.pth'))\n",
    "model.eval()"
   ]
  },
  {
   "cell_type": "code",
   "execution_count": null,
   "metadata": {},
   "outputs": [],
   "source": [
    "bce = nn.BCELoss()\n",
    "iter_predict = 0\n",
    "\n",
    "# create a PdfPages object\n",
    "test_idx=0\n",
    "it_batch = 0\n",
    "\n",
    "with open(f'{path_out}/cnp_{version}_output.csv', mode='w', newline='') as file:\n",
    "    writer = csv.writer(file)\n",
    "    headers = ['iteration','fidelity','n_samples'] + [*config_file[\"simulation_settings\"][\"theta_headers\"]] + ['y_cnp', 'y_cnp_err', 'y_raw', 'log_prop','bce']\n",
    "    writer.writerow(headers)\n",
    "\n",
    "for p, path in enumerate(config_file[\"path_settings\"][\"path_to_files_predict\"]):\n",
    "    \n",
    "    USE_DATA_AUGMENTATION = False\n",
    "    # load data:\n",
    "\n",
    "    dataset_predict = DataGeneration(mode = \"testing\", config_file=config_file, \n",
    "                                   path_to_files=path, \n",
    "                                   use_data_augmentation=USE_DATA_AUGMENTATION, \n",
    "                                   batch_size=config_file[\"cnp_settings\"][\"batch_size_predict\"][p], \n",
    "                                   files_per_batch=FILES_PER_BATCH)\n",
    "    dataset_predict.set_loader()\n",
    "    dataloader_predict = dataset_predict.dataloader\n",
    "\n",
    "\n",
    "    #it_batch = 0\n",
    "    \n",
    "    for b, batch in enumerate(dataloader_predict):\n",
    "        batch_formated=dataset_predict.format_batch_for_cnp(batch,config_file[\"cnp_settings\"][\"context_is_subset\"] )\n",
    "        # Get the predicted mean and variance at the target points for the testing set\n",
    "        log_prob, mu, sigma = model(batch_formated.query, batch_formated.target_y, is_binary)\n",
    "        \n",
    "        # Define the loss\n",
    "        loss = -log_prob.mean()\n",
    "        \n",
    "        if is_binary:\n",
    "            loss_bce = bce(mu, batch_formated.target_y)\n",
    "        else:\n",
    "            loss_bce=-1\n",
    "\n",
    "        \n",
    "        \n",
    "        mu=mu[0].detach().numpy()\n",
    "        sigma = sigma[0].detach().numpy()\n",
    "\n",
    "        theta=batch_formated.query[1][0].detach().numpy()\n",
    "        print(iter)\n",
    "        row = np.array([iteration[p]] + [fidelity[p]] + [len(mu)] + theta[0,:theta_size].tolist() + [np.mean(mu), np.sqrt(np.sum(sigma**2)) / len(sigma), np.mean(batch_formated.target_y.detach().numpy()),loss.item(), loss_bce.item()])\n",
    "        # Reshape to 2D array (one row)\n",
    "        row = row.reshape(1, -1)\n",
    "\n",
    "        # Write the row to the CSV file with 5 decimal places for each number\n",
    "        with open(f'{path_out}/cnp_{version}_output.csv', mode='a', newline='') as file:\n",
    "            np.savetxt(file, row, delimiter=\",\", fmt=\"%.5f\")\n",
    "\n",
    "        if it_batch % PLOT_AFTER == 0:\n",
    "            mu_predict=mu\n",
    "            loss_predict=loss\n",
    "            print('{} Iteration: {}/{}, train loss: {:.4f} (vs BCE {:.4f})'.format(datetime.datetime.now().strftime(\"%Y-%m-%d %H:%M:%S\"),p, it_batch,loss, loss_bce))\n",
    "            if y_size ==1:\n",
    "                    fig = plotting.plot(mu, batch_formated.target_y[0].detach().numpy(), f'{loss:.2f}', mu_predict, batch_formated.target_y[0].detach().numpy(), f'{loss_predict:.2f}', target_range, it_batch)\n",
    "            else:\n",
    "                for k in range(y_size):\n",
    "                        fig = plotting.plot(mu[:,k], batch_formated.target_y[0].detach().numpy()[:,k], f'{loss:.2f}', mu_predict[:,k], batch_formated.target_y[0].detach().numpy()[:,k], f'{loss_predict:.2f}', target_range, it_batch)\n",
    "                        \n",
    "        it_batch+=1\n"
   ]
  },
  {
   "cell_type": "code",
   "execution_count": null,
   "metadata": {},
   "outputs": [],
   "source": [
    "fig=plotting.get_marginialized_all(config_file=config_file)\n",
    "\n",
    "fig.savefig(f'{path_out}/cnp_{version}_output.png')"
   ]
  }
 ],
 "metadata": {
  "kernelspec": {
   "display_name": "legend",
   "language": "python",
   "name": "python3"
  },
  "language_info": {
   "codemirror_mode": {
    "name": "ipython",
    "version": 3
   },
   "file_extension": ".py",
   "mimetype": "text/x-python",
   "name": "python",
   "nbconvert_exporter": "python",
   "pygments_lexer": "ipython3",
   "version": "3.10.11"
  }
 },
 "nbformat": 4,
 "nbformat_minor": 2
}
