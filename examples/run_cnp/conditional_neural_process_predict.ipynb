{
 "cells": [
  {
   "cell_type": "markdown",
   "metadata": {},
   "source": [
    "# Conditional Neural Processes (CNP).\n",
    "[Conditional Neural Processes](https://arxiv.org/pdf/1807.01613.pdf) (CNPs) were\n",
    "introduced as a continuation of\n",
    "[Generative Query Networks](https://deepmind.com/blog/neural-scene-representation-and-rendering/)\n",
    "(GQN) to extend its training regime to tasks beyond scene rendering, e.g. to\n",
    "regression and classification."
   ]
  },
  {
   "cell_type": "code",
   "execution_count": 2,
   "metadata": {},
   "outputs": [],
   "source": [
    "import torch\n",
    "import torch.nn as nn\n",
    "import torch.optim as optim\n",
    "import matplotlib.pyplot as plt\n",
    "import datetime\n",
    "import numpy as np\n",
    "import os\n",
    "from resum.utilities import plotting_utils_cnp as plotting\n",
    "from resum.utilities import utilities as utils\n",
    "from resum.conditional_neural_process import DataGeneration\n",
    "from resum.conditional_neural_process import DeterministicModel\n",
    "from torch.utils.tensorboard import SummaryWriter\n",
    "import csv\n",
    "import yaml"
   ]
  },
  {
   "cell_type": "code",
   "execution_count": 3,
   "metadata": {},
   "outputs": [],
   "source": [
    "with open(\"../legend-neutron-moderator/settings.yaml\", \"r\") as f:\n",
    "    config_file = yaml.safe_load(f)\n",
    "\n",
    "PLOT_AFTER = int(config_file[\"cnp_settings\"][\"plot_after\"])\n",
    "torch.manual_seed(0)\n",
    "FILES_PER_BATCH = config_file[\"cnp_settings\"][\"files_per_batch_predict\"]\n",
    "target_range = config_file[\"simulation_settings\"][\"target_range\"]\n",
    "is_binary = target_range[0] >= 0 and target_range[1] <= 1\n",
    "\n",
    "path_out  = config_file[\"path_settings\"][\"path_out_cnp\"]\n",
    "version   = config_file[\"path_settings\"][\"version\"]\n",
    "iteration = config_file[\"path_settings\"][\"iteration\"]\n",
    "fidelity  = config_file[\"path_settings\"][\"fidelity\"]\n",
    "\n"
   ]
  },
  {
   "cell_type": "code",
   "execution_count": 4,
   "metadata": {},
   "outputs": [],
   "source": [
    "x_size, y_size = utils.get_feature_and_label_size(config_file)\n",
    "theta_size=len(config_file[\"simulation_settings\"][\"theta_headers\"])"
   ]
  },
  {
   "cell_type": "code",
   "execution_count": 5,
   "metadata": {},
   "outputs": [
    {
     "ename": "FileNotFoundError",
     "evalue": "[Errno 2] No such file or directory: '../legend-neutron-moderator/out/cnp/cnp_v1.6_model.pth'",
     "output_type": "error",
     "traceback": [
      "\u001b[31m---------------------------------------------------------------------------\u001b[39m",
      "\u001b[31mFileNotFoundError\u001b[39m                         Traceback (most recent call last)",
      "\u001b[36mCell\u001b[39m\u001b[36m \u001b[39m\u001b[32mIn[5]\u001b[39m\u001b[32m, line 6\u001b[39m\n\u001b[32m      3\u001b[39m decoder_sizes = [representation_size + d_x, \u001b[32m32\u001b[39m, \u001b[32m64\u001b[39m, \u001b[32m128\u001b[39m, \u001b[32m128\u001b[39m, \u001b[32m128\u001b[39m, \u001b[32m64\u001b[39m, \u001b[32m48\u001b[39m, d_out]\n\u001b[32m      5\u001b[39m model = DeterministicModel(encoder_sizes,decoder_sizes)\n\u001b[32m----> \u001b[39m\u001b[32m6\u001b[39m model.load_state_dict(\u001b[43mtorch\u001b[49m\u001b[43m.\u001b[49m\u001b[43mload\u001b[49m\u001b[43m(\u001b[49m\u001b[33;43mf\u001b[39;49m\u001b[33;43m'\u001b[39;49m\u001b[38;5;132;43;01m{\u001b[39;49;00m\u001b[43mpath_out\u001b[49m\u001b[38;5;132;43;01m}\u001b[39;49;00m\u001b[33;43m/cnp_\u001b[39;49m\u001b[38;5;132;43;01m{\u001b[39;49;00m\u001b[43mversion\u001b[49m\u001b[38;5;132;43;01m}\u001b[39;49;00m\u001b[33;43m_model.pth\u001b[39;49m\u001b[33;43m'\u001b[39;49m\u001b[43m)\u001b[49m)\n\u001b[32m      7\u001b[39m model.eval()\n",
      "\u001b[36mFile \u001b[39m\u001b[32m~/.conda/envs/coherent4/lib/python3.12/site-packages/torch/serialization.py:998\u001b[39m, in \u001b[36mload\u001b[39m\u001b[34m(f, map_location, pickle_module, weights_only, mmap, **pickle_load_args)\u001b[39m\n\u001b[32m    995\u001b[39m \u001b[38;5;28;01mif\u001b[39;00m \u001b[33m'\u001b[39m\u001b[33mencoding\u001b[39m\u001b[33m'\u001b[39m \u001b[38;5;129;01mnot\u001b[39;00m \u001b[38;5;129;01min\u001b[39;00m pickle_load_args.keys():\n\u001b[32m    996\u001b[39m     pickle_load_args[\u001b[33m'\u001b[39m\u001b[33mencoding\u001b[39m\u001b[33m'\u001b[39m] = \u001b[33m'\u001b[39m\u001b[33mutf-8\u001b[39m\u001b[33m'\u001b[39m\n\u001b[32m--> \u001b[39m\u001b[32m998\u001b[39m \u001b[38;5;28;01mwith\u001b[39;00m \u001b[43m_open_file_like\u001b[49m\u001b[43m(\u001b[49m\u001b[43mf\u001b[49m\u001b[43m,\u001b[49m\u001b[43m \u001b[49m\u001b[33;43m'\u001b[39;49m\u001b[33;43mrb\u001b[39;49m\u001b[33;43m'\u001b[39;49m\u001b[43m)\u001b[49m \u001b[38;5;28;01mas\u001b[39;00m opened_file:\n\u001b[32m    999\u001b[39m     \u001b[38;5;28;01mif\u001b[39;00m _is_zipfile(opened_file):\n\u001b[32m   1000\u001b[39m         \u001b[38;5;66;03m# The zipfile reader is going to advance the current file position.\u001b[39;00m\n\u001b[32m   1001\u001b[39m         \u001b[38;5;66;03m# If we want to actually tail call to torch.jit.load, we need to\u001b[39;00m\n\u001b[32m   1002\u001b[39m         \u001b[38;5;66;03m# reset back to the original position.\u001b[39;00m\n\u001b[32m   1003\u001b[39m         orig_position = opened_file.tell()\n",
      "\u001b[36mFile \u001b[39m\u001b[32m~/.conda/envs/coherent4/lib/python3.12/site-packages/torch/serialization.py:445\u001b[39m, in \u001b[36m_open_file_like\u001b[39m\u001b[34m(name_or_buffer, mode)\u001b[39m\n\u001b[32m    443\u001b[39m \u001b[38;5;28;01mdef\u001b[39;00m\u001b[38;5;250m \u001b[39m\u001b[34m_open_file_like\u001b[39m(name_or_buffer, mode):\n\u001b[32m    444\u001b[39m     \u001b[38;5;28;01mif\u001b[39;00m _is_path(name_or_buffer):\n\u001b[32m--> \u001b[39m\u001b[32m445\u001b[39m         \u001b[38;5;28;01mreturn\u001b[39;00m \u001b[43m_open_file\u001b[49m\u001b[43m(\u001b[49m\u001b[43mname_or_buffer\u001b[49m\u001b[43m,\u001b[49m\u001b[43m \u001b[49m\u001b[43mmode\u001b[49m\u001b[43m)\u001b[49m\n\u001b[32m    446\u001b[39m     \u001b[38;5;28;01melse\u001b[39;00m:\n\u001b[32m    447\u001b[39m         \u001b[38;5;28;01mif\u001b[39;00m \u001b[33m'\u001b[39m\u001b[33mw\u001b[39m\u001b[33m'\u001b[39m \u001b[38;5;129;01min\u001b[39;00m mode:\n",
      "\u001b[36mFile \u001b[39m\u001b[32m~/.conda/envs/coherent4/lib/python3.12/site-packages/torch/serialization.py:426\u001b[39m, in \u001b[36m_open_file.__init__\u001b[39m\u001b[34m(self, name, mode)\u001b[39m\n\u001b[32m    425\u001b[39m \u001b[38;5;28;01mdef\u001b[39;00m\u001b[38;5;250m \u001b[39m\u001b[34m__init__\u001b[39m(\u001b[38;5;28mself\u001b[39m, name, mode):\n\u001b[32m--> \u001b[39m\u001b[32m426\u001b[39m     \u001b[38;5;28msuper\u001b[39m().\u001b[34m__init__\u001b[39m(\u001b[38;5;28;43mopen\u001b[39;49m\u001b[43m(\u001b[49m\u001b[43mname\u001b[49m\u001b[43m,\u001b[49m\u001b[43m \u001b[49m\u001b[43mmode\u001b[49m\u001b[43m)\u001b[49m)\n",
      "\u001b[31mFileNotFoundError\u001b[39m: [Errno 2] No such file or directory: '../legend-neutron-moderator/out/cnp/cnp_v1.6_model.pth'"
     ]
    }
   ],
   "source": [
    "d_x, d_in, representation_size, d_out = x_size , x_size+y_size, 32, y_size+1\n",
    "encoder_sizes = [d_in, 32, 64, 128, 128, 128, 64, 48, representation_size]\n",
    "decoder_sizes = [representation_size + d_x, 32, 64, 128, 128, 128, 64, 48, d_out]\n",
    "\n",
    "model = DeterministicModel(encoder_sizes,decoder_sizes)\n",
    "model.load_state_dict(torch.load(f'{path_out}/cnp_{version}_model.pth'))\n",
    "model.eval()"
   ]
  },
  {
   "cell_type": "code",
   "execution_count": 6,
   "metadata": {},
   "outputs": [
    {
     "ename": "FileNotFoundError",
     "evalue": "[Errno 2] No such file or directory: '../legend-neutron-moderator/in/data/hf/'",
     "output_type": "error",
     "traceback": [
      "\u001b[31m---------------------------------------------------------------------------\u001b[39m",
      "\u001b[31mFileNotFoundError\u001b[39m                         Traceback (most recent call last)",
      "\u001b[36mCell\u001b[39m\u001b[36m \u001b[39m\u001b[32mIn[6]\u001b[39m\u001b[32m, line 18\u001b[39m\n\u001b[32m     15\u001b[39m USE_DATA_AUGMENTATION = \u001b[38;5;28;01mFalse\u001b[39;00m\n\u001b[32m     16\u001b[39m \u001b[38;5;66;03m# load data:\u001b[39;00m\n\u001b[32m---> \u001b[39m\u001b[32m18\u001b[39m dataset_predict = \u001b[43mDataGeneration\u001b[49m\u001b[43m(\u001b[49m\u001b[43mmode\u001b[49m\u001b[43m \u001b[49m\u001b[43m=\u001b[49m\u001b[43m \u001b[49m\u001b[33;43m\"\u001b[39;49m\u001b[33;43mtesting\u001b[39;49m\u001b[33;43m\"\u001b[39;49m\u001b[43m,\u001b[49m\u001b[43m \u001b[49m\u001b[43mconfig_file\u001b[49m\u001b[43m=\u001b[49m\u001b[43mconfig_file\u001b[49m\u001b[43m,\u001b[49m\u001b[43m \u001b[49m\n\u001b[32m     19\u001b[39m \u001b[43m                               \u001b[49m\u001b[43mpath_to_files\u001b[49m\u001b[43m=\u001b[49m\u001b[43mpath\u001b[49m\u001b[43m,\u001b[49m\u001b[43m \u001b[49m\n\u001b[32m     20\u001b[39m \u001b[43m                               \u001b[49m\u001b[43muse_data_augmentation\u001b[49m\u001b[43m=\u001b[49m\u001b[43mUSE_DATA_AUGMENTATION\u001b[49m\u001b[43m,\u001b[49m\u001b[43m \u001b[49m\n\u001b[32m     21\u001b[39m \u001b[43m                               \u001b[49m\u001b[43mbatch_size\u001b[49m\u001b[43m=\u001b[49m\u001b[43mconfig_file\u001b[49m\u001b[43m[\u001b[49m\u001b[33;43m\"\u001b[39;49m\u001b[33;43mcnp_settings\u001b[39;49m\u001b[33;43m\"\u001b[39;49m\u001b[43m]\u001b[49m\u001b[43m[\u001b[49m\u001b[33;43m\"\u001b[39;49m\u001b[33;43mbatch_size_predict\u001b[39;49m\u001b[33;43m\"\u001b[39;49m\u001b[43m]\u001b[49m\u001b[43m[\u001b[49m\u001b[43mp\u001b[49m\u001b[43m]\u001b[49m\u001b[43m,\u001b[49m\u001b[43m \u001b[49m\n\u001b[32m     22\u001b[39m \u001b[43m                               \u001b[49m\u001b[43mfiles_per_batch\u001b[49m\u001b[43m=\u001b[49m\u001b[43mFILES_PER_BATCH\u001b[49m\u001b[43m)\u001b[49m\n\u001b[32m     23\u001b[39m dataset_predict.set_loader()\n\u001b[32m     24\u001b[39m dataloader_predict = dataset_predict.dataloader\n",
      "\u001b[36mFile \u001b[39m\u001b[32m~/resum-coherent2/resum/conditional_neural_process/data_generator.py:188\u001b[39m, in \u001b[36mDataGeneration.__init__\u001b[39m\u001b[34m(self, mode, config_file, path_to_files, batch_size, files_per_batch, use_data_augmentation)\u001b[39m\n\u001b[32m    185\u001b[39m \u001b[38;5;28mself\u001b[39m._names_target =config_file[\u001b[33m\"\u001b[39m\u001b[33msimulation_settings\u001b[39m\u001b[33m\"\u001b[39m][\u001b[33m\"\u001b[39m\u001b[33mtarget_headers\u001b[39m\u001b[33m\"\u001b[39m]\n\u001b[32m    186\u001b[39m \u001b[38;5;28mself\u001b[39m.feature_size,\u001b[38;5;28mself\u001b[39m.target_size=utils.get_feature_and_label_size(config_file)\n\u001b[32m--> \u001b[39m\u001b[32m188\u001b[39m \u001b[38;5;28;01mif\u001b[39;00m \u001b[38;5;129;01mnot\u001b[39;00m \u001b[38;5;28many\u001b[39m(f.endswith(\u001b[33m\"\u001b[39m\u001b[33m.h5\u001b[39m\u001b[33m\"\u001b[39m) \u001b[38;5;28;01mfor\u001b[39;00m f \u001b[38;5;129;01min\u001b[39;00m \u001b[43mos\u001b[49m\u001b[43m.\u001b[49m\u001b[43mlistdir\u001b[49m\u001b[43m(\u001b[49m\u001b[43mpath_to_files\u001b[49m\u001b[43m)\u001b[49m):\n\u001b[32m    189\u001b[39m     utils.convert_all_csv_to_hdf5(config_file)\n\u001b[32m    191\u001b[39m \u001b[38;5;28;01mif\u001b[39;00m mode != \u001b[33m\"\u001b[39m\u001b[33mtesting\u001b[39m\u001b[33m\"\u001b[39m:\n",
      "\u001b[31mFileNotFoundError\u001b[39m: [Errno 2] No such file or directory: '../legend-neutron-moderator/in/data/hf/'"
     ]
    }
   ],
   "source": [
    "bce = nn.BCELoss()\n",
    "iter_predict = 0\n",
    "\n",
    "# create a PdfPages object\n",
    "test_idx=0\n",
    "it_batch = 0\n",
    "\n",
    "with open(f'{path_out}/cnp_{version}_output.csv', mode='w', newline='') as file:\n",
    "    writer = csv.writer(file)\n",
    "    headers = ['iteration','fidelity','n_samples'] + [*config_file[\"simulation_settings\"][\"theta_headers\"]] + ['y_cnp', 'y_cnp_err', 'y_raw', 'log_prop','bce']\n",
    "    writer.writerow(headers)\n",
    "\n",
    "for p, path in enumerate(config_file[\"path_settings\"][\"path_to_files_predict\"]):\n",
    "    \n",
    "    USE_DATA_AUGMENTATION = False\n",
    "    # load data:\n",
    "\n",
    "    dataset_predict = DataGeneration(mode = \"testing\", config_file=config_file, \n",
    "                                   path_to_files=path, \n",
    "                                   use_data_augmentation=USE_DATA_AUGMENTATION, \n",
    "                                   batch_size=config_file[\"cnp_settings\"][\"batch_size_predict\"][p], \n",
    "                                   files_per_batch=FILES_PER_BATCH)\n",
    "    dataset_predict.set_loader()\n",
    "    dataloader_predict = dataset_predict.dataloader\n",
    "\n",
    "\n",
    "    #it_batch = 0\n",
    "    \n",
    "    for b, batch in enumerate(dataloader_predict):\n",
    "        batch_formated=dataset_predict.format_batch_for_cnp(batch,config_file[\"cnp_settings\"][\"context_is_subset\"] )\n",
    "        # Get the predicted mean and variance at the target points for the testing set\n",
    "        log_prob, mu, sigma = model(batch_formated.query, batch_formated.target_y, is_binary)\n",
    "        \n",
    "        # Define the loss\n",
    "        loss = -log_prob.mean()\n",
    "        \n",
    "        if is_binary:\n",
    "            loss_bce = bce(mu, batch_formated.target_y)\n",
    "        else:\n",
    "            loss_bce=-1\n",
    "\n",
    "        \n",
    "        \n",
    "        mu=mu[0].detach().numpy()\n",
    "        sigma = sigma[0].detach().numpy()\n",
    "\n",
    "        theta=batch_formated.query[1][0].detach().numpy()\n",
    "        print(iter)\n",
    "        row = np.array([iteration[p]] + [fidelity[p]] + [len(mu)] + theta[0,:theta_size].tolist() + [np.mean(mu), np.sqrt(np.sum(sigma**2)) / len(sigma), np.mean(batch_formated.target_y.detach().numpy()),loss.item(), loss_bce.item()])\n",
    "        # Reshape to 2D array (one row)\n",
    "        row = row.reshape(1, -1)\n",
    "\n",
    "        # Write the row to the CSV file with 5 decimal places for each number\n",
    "        with open(f'{path_out}/cnp_{version}_output.csv', mode='a', newline='') as file:\n",
    "            np.savetxt(file, row, delimiter=\",\", fmt=\"%.5f\")\n",
    "\n",
    "        if it_batch % PLOT_AFTER == 0:\n",
    "            mu_predict=mu\n",
    "            loss_predict=loss\n",
    "            print('{} Iteration: {}/{}, train loss: {:.4f} (vs BCE {:.4f})'.format(datetime.datetime.now().strftime(\"%Y-%m-%d %H:%M:%S\"),p, it_batch,loss, loss_bce))\n",
    "            if y_size ==1:\n",
    "                    fig = plotting.plot(mu, batch_formated.target_y[0].detach().numpy(), f'{loss:.2f}', mu_predict, batch_formated.target_y[0].detach().numpy(), f'{loss_predict:.2f}', target_range, it_batch)\n",
    "            else:\n",
    "                for k in range(y_size):\n",
    "                        fig = plotting.plot(mu[:,k], batch_formated.target_y[0].detach().numpy()[:,k], f'{loss:.2f}', mu_predict[:,k], batch_formated.target_y[0].detach().numpy()[:,k], f'{loss_predict:.2f}', target_range, it_batch)\n",
    "                        \n",
    "        it_batch+=1\n"
   ]
  },
  {
   "cell_type": "code",
   "execution_count": null,
   "metadata": {},
   "outputs": [],
   "source": [
    "fig=plotting.get_marginialized_all(config_file=config_file)\n",
    "\n",
    "fig.savefig(f'{path_out}/cnp_{version}_output.png')"
   ]
  }
 ],
 "metadata": {
  "kernelspec": {
   "display_name": "coherent4",
   "language": "python",
   "name": "python3"
  },
  "language_info": {
   "codemirror_mode": {
    "name": "ipython",
    "version": 3
   },
   "file_extension": ".py",
   "mimetype": "text/x-python",
   "name": "python",
   "nbconvert_exporter": "python",
   "pygments_lexer": "ipython3",
   "version": "3.12.3"
  }
 },
 "nbformat": 4,
 "nbformat_minor": 4
}
