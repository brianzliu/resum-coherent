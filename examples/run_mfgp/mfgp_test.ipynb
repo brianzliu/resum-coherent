{
 "cells": [
  {
   "cell_type": "markdown",
   "metadata": {},
   "source": [
    "# Multi-Fidelity Gaussian Process Test\n",
    "This notebook demonstrates how to train and evaluate a simple multi-fidelity Gaussian Process (MFGP) using synthetic data."
   ]
  },
  {
   "cell_type": "code",
   "execution_count": null,
   "metadata": {},
   "outputs": [],
   "source": [
    "# Imports\n",
    "import numpy as np\n",
    "import matplotlib.pyplot as plt\n",
    "from resum.multi_fidelity_gaussian_process import MFGPModel\n"
   ]
  },
  {
   "cell_type": "markdown",
   "metadata": {},
   "source": [
    "## Generate synthetic training data\n",
    "We create a low-fidelity function that roughly approximates a more expensive high-fidelity function."
   ]
  },
  {
   "cell_type": "code",
   "execution_count": null,
   "metadata": {},
   "outputs": [],
   "source": [
    "# Training input points\n",
    "x_lf = np.linspace(0, 10, 20)[:, None]  # low fidelity inputs\n",
    "x_hf = np.linspace(0, 10, 10)[:, None]  # high fidelity inputs\n",
    "\n",
    "# Define the underlying functions\n",
    "def f_low(x):\n",
    "    return np.sin(x)\n",
    "\n",
    "def f_high(x):\n",
    "    return np.sin(x) + 0.5 * x\n",
    "\n",
    "# Generate observations with small noise\n",
    "y_lf = f_low(x_lf) + 0.05 * np.random.randn(*x_lf.shape)\n",
    "y_hf = f_high(x_hf) + 0.05 * np.random.randn(*x_hf.shape)"
   ]
  },
  {
   "cell_type": "markdown",
   "metadata": {},
   "source": [
    "## Build the MFGP model\n",
    "We pass the training data as a dictionary keyed by fidelity level."
   ]
  },
  {
   "cell_type": "code",
   "execution_count": null,
   "metadata": {},
   "outputs": [],
   "source": [
    "trainings_data = {\"lf\": [x_lf.tolist(), y_lf.ravel().tolist()],\n",
    "                 \"hf\": [x_hf.tolist(), y_hf.ravel().tolist()]}\n",
    "# Estimated observation noise for each fidelity\n",
    "noise = {\"lf\": 0.05, \"hf\": 0.05}\n",
    "\n",
    "# Initialize and train the model\n",
    "mf_model = MFGPModel(trainings_data, noise)\n",
    "mf_model.build_model(n_restarts=5)"
   ]
  },
  {
   "cell_type": "markdown",
   "metadata": {},
   "source": [
    "## Evaluate the model\n",
    "We predict the high-fidelity output over a dense grid to visualize performance."
   ]
  },
  {
   "cell_type": "code",
   "execution_count": null,
   "metadata": {},
   "outputs": [],
   "source": [
    "x_test = np.linspace(0, 10, 100)[:, None]\n",
    "X_plot = [x_test, x_test]  # lf and hf evaluation points\n",
    "# Convert to the format expected by the model\n",
    "from emukit.multi_fidelity.convert_lists_to_array import convert_x_list_to_array\n",
    "X_eval = convert_x_list_to_array(X_plot)\n",
    "mean_hf, var_hf = mf_model.model.predict(X_eval[50:])  # evaluate at high fidelity\n",
    "\n",
    "plt.figure(figsize=(6,4))\n",
    "plt.plot(x_hf, y_hf, 'kx', label='HF data')\n",
    "plt.plot(x_lf, y_lf, 'b.', label='LF data')\n",
    "plt.plot(x_test, f_high(x_test), 'r--', label='True HF function')\n",
    "plt.plot(x_test, mean_hf, 'g', label='MFGP mean')\n",
    "plt.fill_between(x_test.ravel(),\n",
    "                 (mean_hf - 2*np.sqrt(var_hf)).ravel(),\n",
    "                 (mean_hf + 2*np.sqrt(var_hf)).ravel(),\n",
    "                 color='lightgreen', alpha=0.5, label=r'$\pm2\sigma$')\n",
    "plt.legend()\n",
    "plt.xlabel('x')\n",
    "plt.ylabel('y')"
   ]
  }
 ],
 "metadata": {
  "kernelspec": {
   "display_name": "Python 3",
   "language": "python",
   "name": "python3"
  },
  "language_info": {
   "name": "python",
   "version": "3.10"
  }
 },
 "nbformat": 4,
 "nbformat_minor": 4
}
