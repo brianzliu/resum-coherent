{
 "cells": [
  {
   "cell_type": "code",
   "execution_count": null,
   "metadata": {
    "tags": []
   },
   "outputs": [],
   "source": [
    "# General imports\n",
    "import numpy as np\n",
    "np.random.seed(42)\n",
    "import pandas as pd\n",
    "\n",
    "import matplotlib.pyplot as plt\n",
    "%matplotlib notebook\n",
    "from matplotlib import colors as mcolors\n",
    "colors = dict(mcolors.BASE_COLORS, **mcolors.CSS4_COLORS)\n",
    "import os\n",
    "import yaml\n",
    "import importlib.util\n",
    "from resum.multi_fidelity_gaussian_process import MultiFidelityVisualizer\n",
    "from resum.multi_fidelity_gaussian_process import MFGPModel"
   ]
  },
  {
   "cell_type": "code",
   "execution_count": null,
   "metadata": {},
   "outputs": [],
   "source": [
    "path_to_settings = \"../legend-neutron-moderator\"\n",
    "with open(f\"{path_to_settings}/settings.yaml\", \"r\") as f:\n",
    "    config_file = yaml.safe_load(f)\n",
    "\n",
    "version       = config_file[\"path_settings\"][\"version\"]\n",
    "path_out_cnp  = config_file[\"path_settings\"][\"path_out_cnp\"]\n",
    "path_out_mfgp = config_file[\"path_settings\"][\"path_out_mfgp\"]\n",
    "file_in=f'{path_out_cnp}/cnp_{version}_output.csv'\n"
   ]
  },
  {
   "cell_type": "code",
   "execution_count": null,
   "metadata": {
    "tags": []
   },
   "outputs": [],
   "source": [
    "\n",
    "if not os.path.exists(path_out_mfgp):\n",
    "   os.makedirs(path_out_mfgp)\n",
    "\n",
    "# Set parameter name/x_labels -> needs to be consistent with data input file\n",
    "x_labels        = config_file[\"simulation_settings\"][\"theta_headers\"]\n",
    "y_label_cnp     = 'y_cnp'\n",
    "y_err_label_cnp = 'y_cnp_err'\n",
    "y_label_sim     = 'y_rGe77[nuc/(kg*yr)]'\n",
    "\n",
    "# Set parameter boundaries\n",
    "xmin = config_file[\"simulation_settings\"][\"theta_min\"]\n",
    "xmax = config_file[\"simulation_settings\"][\"theta_max\"]\n",
    "x_fixed = config_file[\"simulation_settings\"][\"theta_fixed\"]\n",
    "parameters={}\n",
    "for i,x in enumerate(x_labels):\n",
    "   parameters[x]=[xmin[i],xmax[i]]\n",
    "\n",
    "# Assign costs\n",
    "low_fidelity_cost = config_file[\"simulation_settings\"][\"lf_cost\"]\n",
    "high_fidelity_cost = config_file[\"simulation_settings\"][\"lf_cost\"]"
   ]
  },
  {
   "cell_type": "code",
   "execution_count": null,
   "metadata": {},
   "outputs": [],
   "source": [
    "data=pd.read_csv(file_in)"
   ]
  },
  {
   "cell_type": "code",
   "execution_count": null,
   "metadata": {
    "tags": []
   },
   "outputs": [],
   "source": [
    "\n",
    "LF_cnp_noise=np.mean(data.loc[(data['fidelity']==0.) & (data['iteration']==0)][y_err_label_cnp].to_numpy())\n",
    "HF_cnp_noise=np.mean(data.loc[(data['fidelity']==1.) & (data['iteration']==0)][y_err_label_cnp].to_numpy())\n",
    "LF_sim_noise=np.std(data.loc[(data['fidelity']==0.) & (data['iteration']==0)][y_label_sim].to_numpy())\n",
    "HF_sim_noise=np.std(data.loc[(data['fidelity']==1.) & (data['iteration']==0)][y_label_sim].to_numpy())\n",
    "\n",
    "x_train_l, x_train_h, y_train_l, y_train_h = ([],[],[],[])\n",
    "row_h=data.index[data['fidelity'] == 1].tolist()\n",
    "row_l=data.index[data['fidelity'] == 0].tolist()\n",
    "\n",
    "x_train_hf_sim = data.loc[(data['fidelity']==1.) & (data['iteration']==0)][x_labels].to_numpy().tolist()\n",
    "y_train_hf_sim = data.loc[(data['fidelity']==1.) & (data['iteration']==0)][y_label_sim].to_numpy().tolist()\n",
    "\n",
    "x_train_hf_cnp = data.loc[(data['fidelity']==1.) & (data['iteration']==0)][x_labels].to_numpy().tolist()\n",
    "y_train_hf_cnp = data.loc[(data['fidelity']==1.) & (data['iteration']==0)][ y_label_cnp].to_numpy().tolist()\n",
    "\n",
    "x_train_lf_sim = data.loc[(data['fidelity']==0.) & (data['iteration']==0)][x_labels].to_numpy().tolist()\n",
    "y_train_lf_sim = data.loc[(data['fidelity']==0.) & (data['iteration']==0)][ y_label_sim].to_numpy().tolist()\n",
    "\n",
    "x_train_lf_cnp = data.loc[(data['fidelity']==0.) & (data['iteration']==0)][x_labels].to_numpy().tolist()\n",
    "y_train_lf_cnp = data.loc[(data['fidelity']==0.) & (data['iteration']==0)][ y_label_cnp].to_numpy().tolist()\n"
   ]
  },
  {
   "cell_type": "code",
   "execution_count": null,
   "metadata": {},
   "outputs": [],
   "source": [
    "trainings_data = {\"lf\": [x_train_lf_cnp,y_train_lf_cnp], \"mf\": [x_train_hf_cnp,y_train_hf_cnp], \"hf\": [x_train_hf_sim,y_train_hf_sim]}\n",
    "noise = {\"lf\": LF_cnp_noise, \"mf\": 0.0, \"hf\": 0.0}"
   ]
  },
  {
   "cell_type": "code",
   "execution_count": null,
   "metadata": {},
   "outputs": [],
   "source": [
    "\n",
    "\n",
    "# Path to the inequalities.py file\n",
    "file_path = f\"{path_to_settings}/inequalities.py\"\n",
    "\n",
    "if os.path.exists(file_path):\n",
    "    spec = importlib.util.spec_from_file_location(\"inequalities\", file_path)\n",
    "    inequalities_module = importlib.util.module_from_spec(spec)\n",
    "    spec.loader.exec_module(inequalities_module)\n",
    "    InequalityConstraints = inequalities_module.InequalityConstraints\n",
    "    inequalities = InequalityConstraints()\n",
    "    print(\"InequalityConstraints loaded successfully.\")\n",
    "else:\n",
    "    inequalities = None"
   ]
  },
  {
   "cell_type": "code",
   "execution_count": null,
   "metadata": {},
   "outputs": [],
   "source": [
    "mf_model = MFGPModel(trainings_data, noise, inequality_constraints=inequalities)\n",
    "mf_model.build_model(10)"
   ]
  },
  {
   "cell_type": "code",
   "execution_count": null,
   "metadata": {},
   "outputs": [],
   "source": [
    "mf_model.model.gpy_model"
   ]
  },
  {
   "cell_type": "code",
   "execution_count": null,
   "metadata": {},
   "outputs": [],
   "source": [
    "%%capture\n",
    "leg_label = []\n",
    "ncol=3\n",
    "nrow=int(np.ceil(len(x_labels)/ncol))\n",
    "fig2,_  = plt.subplots(nrow, ncol, figsize=(15, 5), constrained_layout=True)\n",
    "fig4,_  = plt.subplots(int(np.ceil(len(x_labels)/1)), 1, figsize=(5, 12), constrained_layout=True)\n",
    "\n"
   ]
  },
  {
   "cell_type": "code",
   "execution_count": null,
   "metadata": {},
   "outputs": [],
   "source": [
    "mf_vis = MultiFidelityVisualizer(mf_model,parameters,x_fixed)"
   ]
  },
  {
   "cell_type": "code",
   "execution_count": null,
   "metadata": {},
   "outputs": [],
   "source": [
    "\n",
    "sample=0\n",
    "active_learning = False\n",
    "add_new_sample=True\n",
    "mf_model.set_traings_data(trainings_data)\n",
    "\n",
    "while ( sample <= data['iteration'].max()):\n",
    "    print('Sample #', sample)\n",
    "\n",
    "    if sample > 0:    \n",
    "         \n",
    "        x_train_hf_sim = data[(data['fidelity']==1.) & (data['iteration']==sample)][x_labels].to_numpy().tolist()\n",
    "        y_train_hf_sim = data[(data['fidelity']==1.) & (data['iteration']==sample)][y_label_sim].to_numpy().tolist()\n",
    "        print(f\"Adding {x_train_hf_sim}\")   \n",
    "        x_train_hf_cnp = data[(data['fidelity']==1.) & (data['iteration']==sample)][x_labels].to_numpy().tolist()\n",
    "        y_train_hf_cnp = data[(data['fidelity']==1.) & (data['iteration']==sample)][y_label_cnp].to_numpy().tolist()\n",
    "\n",
    "        x_train_lf_cnp = data[(data['fidelity']==0.) & (data['iteration']==sample)][x_labels].to_numpy().tolist()\n",
    "        y_train_lf_cnp = data[(data['fidelity']==0.) & (data['iteration']==sample)][ y_label_cnp].to_numpy().tolist()\n",
    "        trainings_data_new = {\"lf\": [x_train_lf_cnp,y_train_lf_cnp], \"mf\": [x_train_hf_cnp,y_train_hf_cnp], \"hf\": [x_train_hf_sim,y_train_hf_sim]}\n",
    "        mf_model.set_data(trainings_data_new)\n",
    "\n",
    "\n",
    "    # run the model drawing\n",
    "    fig1, ax = plt.subplots(2, 3,figsize=(15, 5),constrained_layout=True)\n",
    "    fig1 = mf_vis.draw_model_projections(fig1)\n",
    "    fig2 = mf_vis.draw_model_projections(fig2)\n",
    "\n",
    "    # find the next data point\n",
    "    if sample == data['iteration'].max() and active_learning==True:\n",
    "        x_next_sample, us_acquisition = mf_model.max_acquisition_integrated_variance_reduction(parameters)\n",
    "        print(f'next suggested point to simulated is at: {x_next_sample}')\n",
    "        fig4 = mf_vis.draw_acquisition_func(fig4, us_acquisition, np.array(x_next_sample))\n",
    "        \n",
    "    sample+=1\n",
    "\n",
    "\n"
   ]
  },
  {
   "cell_type": "code",
   "execution_count": null,
   "metadata": {},
   "outputs": [],
   "source": [
    "fig1.savefig(f\"{path_out_mfgp}/mfgp_{version}_model_proj.png\")\n",
    "fig2.savefig(f\"{path_out_mfgp}/mfgp_{version}_model_proj_updated.png\")"
   ]
  },
  {
   "cell_type": "code",
   "execution_count": null,
   "metadata": {},
   "outputs": [],
   "source": [
    "fig4.savefig(f\"{path_out_mfgp}/mfgp_{version}_model_acq.png\")"
   ]
  },
  {
   "cell_type": "code",
   "execution_count": null,
   "metadata": {},
   "outputs": [],
   "source": [
    "fig3 = mf_vis.draw_model()\n",
    "fig3.savefig(f\"{path_out_mfgp}/mfgp_{version}_model.png\")"
   ]
  },
  {
   "cell_type": "code",
   "execution_count": null,
   "metadata": {},
   "outputs": [],
   "source": [
    "config_file[\"path_settings\"][\"path_to_files_validation\"]"
   ]
  },
  {
   "cell_type": "code",
   "execution_count": null,
   "metadata": {},
   "outputs": [],
   "source": [
    "data_test=pd.read_csv(config_file[\"path_settings\"][\"path_to_files_validation\"])\n",
    "print(config_file[\"path_settings\"][\"path_to_files_validation\"])\n",
    "x_test=[]\n",
    "y_test=[]\n",
    "x_test.append(data_test.loc[data_test['fidelity']==0.][x_labels].to_numpy().tolist())\n",
    "y_test.append(data_test.loc[data_test['fidelity']==0.][y_label_cnp].to_numpy().tolist())\n",
    "x_test.append(data_test.loc[data_test['fidelity']==1.][x_labels].to_numpy().tolist())\n",
    "y_test.append(data_test.loc[data_test['fidelity']==1.][y_label_cnp].to_numpy().tolist())\n",
    "x_test.append(data_test.loc[data_test['fidelity']==1.][x_labels].to_numpy().tolist())\n",
    "y_test.append(data_test.loc[data_test['fidelity']==1.][y_label_sim].to_numpy().tolist())\n",
    "fig5, validation  = mf_vis.model_validation(x_test, y_test)\n",
    "plt.show()"
   ]
  },
  {
   "cell_type": "code",
   "execution_count": null,
   "metadata": {},
   "outputs": [],
   "source": [
    "for x in range(len(x_labels)):\n",
    "    fig5 = mf_vis.draw_model_marginalized(x,grid_steps=5)\n",
    "    fig5.savefig(f\"{path_out_mfgp}/mfgp_{version}_marg_{x}.png\")"
   ]
  }
 ],
 "metadata": {
  "kernelspec": {
   "display_name": "Python 3 (ipykernel)",
   "language": "python",
   "name": "python3"
  },
  "language_info": {
   "codemirror_mode": {
    "name": "ipython",
    "version": 3
   },
   "file_extension": ".py",
   "mimetype": "text/x-python",
   "name": "python",
   "nbconvert_exporter": "python",
   "pygments_lexer": "ipython3",
   "version": "3.10.16"
  }
 },
 "nbformat": 4,
 "nbformat_minor": 4
}
